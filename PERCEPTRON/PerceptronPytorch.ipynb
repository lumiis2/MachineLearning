{
 "cells": [
  {
   "cell_type": "markdown",
   "metadata": {},
   "source": [
    "## Perceptron Implementation\n",
    "\n",
    "This code is designed to implement a perceptron for handling a classification problem. It serves as a training exercise to gain a better grasp of fundamental machine learning concepts. The primary focus is on utilizing the Torch framework and enhancing my understanding of it.\n"
   ]
  },
  {
   "cell_type": "code",
   "execution_count": 12,
   "metadata": {},
   "outputs": [],
   "source": [
    "import torch\n",
    "import torch.nn as nn\n",
    "import torch.optim as optim\n",
    "import matplotlib.pyplot as plt\n",
    "from sklearn.model_selection import train_test_split\n",
    "from sklearn import datasets\n",
    "import numpy as np"
   ]
  },
  {
   "cell_type": "markdown",
   "metadata": {},
   "source": [
    "## Importing Essential Libraries\n",
    "\n",
    "In this section, we import essential libraries that will be utilized throughout the code. The entire code is built on Torch elements, as I am using them to learn how to effectively utilize them.\n"
   ]
  },
  {
   "cell_type": "code",
   "execution_count": 13,
   "metadata": {},
   "outputs": [],
   "source": [
    "class Perceptron(nn.Module):\n",
    "\n",
    "    def __init__(self, input_size):\n",
    "        super(Perceptron, self).__init__()\n",
    "        self.fc = nn.Linear(input_size, 1)\n",
    "\n",
    "    def forward(self, x):\n",
    "        return torch.sigmoid(self.fc(x))"
   ]
  },
  {
   "cell_type": "markdown",
   "metadata": {},
   "source": [
    "## Perceptron Implementation\n",
    "\n",
    "In this section, we implement the `Perceptron` class. The class inherits from `nn.Module` to leverage the full range of powerful Torch functions used in neural networks. We initialize the class by invoking the parent constructor with `super`.\n",
    "\n",
    "![Perceptron Idea](images/perceptronscheme.jpeg)\n",
    "\n"
   ]
  },
  {
   "cell_type": "code",
   "execution_count": 14,
   "metadata": {},
   "outputs": [],
   "source": [
    "def train_split(X, y, test_size=0.2, random_seed=None):\n",
    "    if random_seed is not None:\n",
    "        torch.manual_seed(random_seed)\n",
    "\n",
    "    X_train, X_test, y_train, y_test = train_test_split(X, y, test_size=test_size)\n",
    "\n",
    "    X_train = torch.tensor(X_train, dtype=torch.float32)\n",
    "    X_test = torch.tensor(X_test, dtype=torch.float32)\n",
    "    y_train = torch.tensor(y_train, dtype=torch.float32).view(-1, 1)\n",
    "    y_test = torch.tensor(y_test, dtype=torch.float32).view(-1, 1)\n",
    "\n",
    "    return X_train, X_test, y_train, y_test\n"
   ]
  },
  {
   "cell_type": "markdown",
   "metadata": {},
   "source": [
    "## Data Splitting\n",
    "\n",
    "This function divides the dataset into training and testing sets.\n",
    "\n",
    "### Parameters:\n",
    "\n",
    "- `X` (numpy.ndarray): Input data.\n",
    "- `y` (numpy.ndarray): Labels associated with the data.\n",
    "- `test_size` (float): Proportion of data to allocate for testing (default is 0.2).\n",
    "- `random_seed` (int): Random seed for reproducibility (optional).\n",
    "\n",
    "### Returns:\n",
    "\n",
    "- `X_train` (numpy.ndarray): Training data.\n",
    "- `X_test` (numpy.ndarray): Testing data.\n",
    "- `y_train` (numpy.ndarray): Training labels.\n",
    "- `y_test` (numpy.ndarray): Testing labels.\n"
   ]
  },
  {
   "cell_type": "code",
   "execution_count": 15,
   "metadata": {},
   "outputs": [],
   "source": [
    "def accuracy(y_true, y_pred):\n",
    "    y_pred = (y_pred > 0.5).float()\n",
    "    accuracy = (y_pred == y_true).float().mean()\n",
    "    return accuracy.item()"
   ]
  },
  {
   "cell_type": "markdown",
   "metadata": {},
   "source": [
    "## Accuracy Calculation\n",
    "\n",
    "This function calculates the classification accuracy.\n",
    "\n",
    "### Parameters:\n",
    "\n",
    "- `y_true` (numpy.ndarray): True labels.\n",
    "- `y_pred` (numpy.ndarray): Predicted labels.\n",
    "\n",
    "### Returns:\n",
    "\n",
    "- `accuracy` (float): Classification accuracy.\n"
   ]
  },
  {
   "cell_type": "markdown",
   "metadata": {},
   "source": [
    "## Perceptron Object Creation\n",
    "\n",
    "In this part of the code, a Perceptron object is created with specified learning rate and the number of iterations. The model is trained on the training data (`X_train` and `y_train`), and predictions are made for the test data (`X_test`)."
   ]
  },
  {
   "cell_type": "code",
   "execution_count": 16,
   "metadata": {},
   "outputs": [],
   "source": [
    "if __name__ == \"__main__\":\n",
    "    seed = np.random.randint(100)\n",
    "    X, y = datasets.make_blobs(\n",
    "        n_samples=150, n_features=2, centers=2, cluster_std=1.6, random_state= seed)\n",
    "    X_train, X_test, y_train, y_test = train_split(X, y, test_size=0.2, random_seed= seed)\n",
    "\n",
    "    input_size = X_train.shape[1]\n",
    "    model = Perceptron(input_size)\n",
    "\n",
    "    criterion = nn.BCELoss()\n",
    "    optimizer = optim.SGD(model.parameters(), lr=0.01)\n",
    "\n",
    "    #TRAINING\n",
    "    num_epochs = 1000\n",
    "    for epoch in range(num_epochs):\n",
    "        optimizer.zero_grad()\n",
    "        outputs = model(X_train)\n",
    "        loss = criterion(outputs, y_train)\n",
    "        loss.backward()\n",
    "        optimizer.step()\n",
    "\n",
    "    #TESTING\n",
    "    with torch.no_grad():\n",
    "        predictions = model(X_test)\n",
    "        test_accuracy = accuracy(y_test, predictions)"
   ]
  },
  {
   "cell_type": "markdown",
   "metadata": {},
   "source": [
    "### Plotting Data Points for Classes A and B\n",
    "\n",
    "The code then proceeds to plot data points for classes A and B."
   ]
  },
  {
   "cell_type": "code",
   "execution_count": 17,
   "metadata": {},
   "outputs": [
    {
     "name": "stdout",
     "output_type": "stream",
     "text": [
      "Perceptron classification accuracy: 1.0\n"
     ]
    },
    {
     "data": {
      "image/png": "[encoded data removed]",
      "text/plain": [
       "<Figure size 640x480 with 1 Axes>"
      ]
     },
     "metadata": {},
     "output_type": "display_data"
    }
   ],
   "source": [
    "\n",
    "if __name__ == \"__main__\":\n",
    "    print(\"Perceptron classification accuracy:\", test_accuracy)\n",
    "\n",
    "    x_classA = X_train[y_train.view(-1) == 0]\n",
    "    x_classB = X_train[y_train.view(-1) == 1]\n",
    "\n",
    "    fig = plt.figure()\n",
    "    ax = fig.add_subplot(1, 1, 1)\n",
    "\n",
    "    # Plotando \"x\" azuis para a classe 0\n",
    "    plt.scatter(x_classA[:, 0], x_classA[:, 1], marker=\"x\", c='blue', label=\"Classe A\")\n",
    "\n",
    "    # Plotando \"o\" vermelhas para a classe 1\n",
    "    plt.scatter(x_classB[:, 0], x_classB[:, 1], marker=\"o\", c='red', label=\"Classe B\")\n",
    "\n",
    "    w = list(model.parameters())[0][0].detach().numpy()\n",
    "    b = list(model.parameters())[1][0].detach().numpy()\n",
    "\n",
    "    x0_1 = torch.min(X_train[:, 0]).item()\n",
    "    x0_2 = torch.max(X_train[:, 0]).item()\n",
    "\n",
    "    x1_1 = (-w[0] * x0_1 - b) / w[1]\n",
    "    x1_2 = (-w[0] * x0_2 - b) / w[1]\n",
    "\n",
    "    ax.plot([x0_1, x0_2], [x1_1, x1_2], \"k\")\n",
    "\n",
    "    ymin = torch.min(X_train[:, 1]).item()\n",
    "    ymax = torch.max(X_train[:, 1]).item()\n",
    "    ax.set_ylim([ymin - 3, ymax + 3])\n",
    "\n",
    "    plt.legend()\n",
    "    plt.show()\n"
   ]
  }
 ],
 "metadata": {
  "kernelspec": {
   "display_name": "Python 3",
   "language": "python",
   "name": "python3"
  },
  "language_info": {
   "codemirror_mode": {
    "name": "ipython",
    "version": 3
   },
   "file_extension": ".py",
   "mimetype": "text/x-python",
   "name": "python",
   "nbconvert_exporter": "python",
   "pygments_lexer": "ipython3",
   "version": "3.11.1"
  }
 },
 "nbformat": 4,
 "nbformat_minor": 2
}
